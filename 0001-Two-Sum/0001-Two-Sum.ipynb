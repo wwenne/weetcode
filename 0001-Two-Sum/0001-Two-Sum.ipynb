{
 "cells": [
  {
   "cell_type": "code",
   "execution_count": null,
   "id": "30646744",
   "metadata": {},
   "outputs": [],
   "source": [
    "# runtime beats 12.04%\n",
    "# memory beats 86.43%\n",
    "\n",
    "def twoSum(self, nums, target):\n",
    "    for i in range(0,len(nums)):\n",
    "        for j in range(i+1,len(nums)):\n",
    "            if nums[i] + nums[j] == target:\n",
    "                result = [i,j]\n",
    "            else:\n",
    "                continue\n",
    "    return result"
   ]
  },
  {
   "cell_type": "code",
   "execution_count": null,
   "id": "12f117c7",
   "metadata": {},
   "outputs": [],
   "source": [
    "# runtime beats 81.23%\n",
    "# memory beats 27.81%\n",
    "\n",
    "def twoSum(self, nums, target):\n",
    "    for i,value in enumerate(nums):\n",
    "        diff = target - value\n",
    "        if diff in dic.keys():\n",
    "            result = [i,nums.index(diff)]\n",
    "        else:\n",
    "            dic[value] = i\n",
    "    return result"
   ]
  }
 ],
 "metadata": {
  "kernelspec": {
   "display_name": "Python 3 (ipykernel)",
   "language": "python",
   "name": "python3"
  },
  "language_info": {
   "codemirror_mode": {
    "name": "ipython",
    "version": 3
   },
   "file_extension": ".py",
   "mimetype": "text/x-python",
   "name": "python",
   "nbconvert_exporter": "python",
   "pygments_lexer": "ipython3",
   "version": "3.11.3"
  }
 },
 "nbformat": 4,
 "nbformat_minor": 5
}
