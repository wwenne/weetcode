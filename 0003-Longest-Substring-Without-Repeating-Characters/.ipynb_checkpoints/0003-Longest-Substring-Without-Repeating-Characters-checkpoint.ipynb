{
 "cells": [
  {
   "cell_type": "code",
   "execution_count": 1,
   "id": "b519a174",
   "metadata": {},
   "outputs": [],
   "source": [
    "# runtime beats 85.05%\n",
    "# memory beats 92.76%\n",
    "class Solution:\n",
    "    def lengthOfLongestSubstring(self, s: str) -> int:\n",
    "        if len(s) == 0:\n",
    "            max_len = 0\n",
    "        else:\n",
    "            substring = s[0]\n",
    "            cur_len = len(substring)\n",
    "            max_len = len(substring)\n",
    "            for i in range(1,len(s)):\n",
    "                if s[i] not in substring:\n",
    "                    substring += s[i]\n",
    "                else:\n",
    "    # find the index of the repeated one and save the unrepeated string\n",
    "                    index = substring.index(s[i])\n",
    "                    substring = substring[index + 1 :] + s[i]\n",
    "                cur_len = max(cur_len,len(substring))\n",
    "            max_len = max(cur_len,max_len)\n",
    "\n",
    "        return max_len"
   ]
  },
  {
   "cell_type": "code",
   "execution_count": 2,
   "id": "65467be8",
   "metadata": {},
   "outputs": [
    {
     "data": {
      "text/plain": [
       "3"
      ]
     },
     "execution_count": 2,
     "metadata": {},
     "output_type": "execute_result"
    }
   ],
   "source": [
    "lengthOfLongestSubstring(\"aabaab!bb\")"
   ]
  },
  {
   "cell_type": "code",
   "execution_count": null,
   "id": "ca196d44",
   "metadata": {},
   "outputs": [],
   "source": [
    "# Another Way\n",
    "class Solution:\n",
    "    def lengthOfLongestSubstring(self, s: str) -> int:\n",
    "        r = 0\n",
    "        char = set() # store unrepeated char\n",
    "        l = 0\n",
    "        for i in range(len(s)):\n",
    "            while s[i] in char:\n",
    "                char.remove(s[l])\n",
    "                l += 1\n",
    "            char.add(s[i])\n",
    "            r = max(r,i - l + 1)\n",
    "        return r"
   ]
  }
 ],
 "metadata": {
  "kernelspec": {
   "display_name": "Python 3 (ipykernel)",
   "language": "python",
   "name": "python3"
  },
  "language_info": {
   "codemirror_mode": {
    "name": "ipython",
    "version": 3
   },
   "file_extension": ".py",
   "mimetype": "text/x-python",
   "name": "python",
   "nbconvert_exporter": "python",
   "pygments_lexer": "ipython3",
   "version": "3.11.3"
  }
 },
 "nbformat": 4,
 "nbformat_minor": 5
}
